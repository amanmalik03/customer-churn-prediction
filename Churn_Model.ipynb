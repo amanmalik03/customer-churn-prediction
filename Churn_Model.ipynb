{
 "cells": [
  {
   "cell_type": "code",
   "execution_count": null,
   "id": "bc4fe2b7",
   "metadata": {},
   "outputs": [],
   "source": [
    "\n",
    "import pandas as pd\n",
    "import matplotlib.pyplot as plt\n",
    "import seaborn as sns\n",
    "from sklearn.model_selection import train_test_split\n",
    "from sklearn.preprocessing import LabelEncoder\n",
    "from sklearn.linear_model import LogisticRegression\n",
    "from sklearn.metrics import classification_report, confusion_matrix\n"
   ]
  },
  {
   "cell_type": "code",
   "execution_count": null,
   "id": "03aa398e",
   "metadata": {},
   "outputs": [],
   "source": [
    "\n",
    "df = pd.read_csv(\"WA_Fn-UseC_-Telco-Customer-Churn.csv\")\n",
    "df.head()\n"
   ]
  },
  {
   "cell_type": "code",
   "execution_count": null,
   "id": "90e5c082",
   "metadata": {},
   "outputs": [],
   "source": [
    "\n",
    "df['TotalCharges'] = pd.to_numeric(df['TotalCharges'], errors='coerce')\n",
    "df.dropna(subset=['TotalCharges'], inplace=True)\n",
    "df.reset_index(drop=True, inplace=True)\n"
   ]
  },
  {
   "cell_type": "code",
   "execution_count": null,
   "id": "beb8c374",
   "metadata": {},
   "outputs": [],
   "source": [
    "\n",
    "plt.figure(figsize=(6,4))\n",
    "sns.countplot(data=df, x='Churn')\n",
    "plt.title(\"Churn Distribution\")\n",
    "plt.savefig(\"churn_distribution.png\")\n",
    "plt.show()\n"
   ]
  },
  {
   "cell_type": "code",
   "execution_count": null,
   "id": "418d5fc6",
   "metadata": {},
   "outputs": [],
   "source": [
    "\n",
    "plt.figure(figsize=(8,5))\n",
    "sns.countplot(data=df, x='Contract', hue='Churn')\n",
    "plt.title(\"Churn by Contract Type\")\n",
    "plt.savefig(\"churn_by_contract.png\")\n",
    "plt.show()\n"
   ]
  },
  {
   "cell_type": "code",
   "execution_count": null,
   "id": "ab3601e8",
   "metadata": {},
   "outputs": [],
   "source": [
    "\n",
    "plt.figure(figsize=(8,5))\n",
    "sns.boxplot(data=df, x='Churn', y='MonthlyCharges')\n",
    "plt.title(\"Monthly Charges by Churn\")\n",
    "plt.savefig(\"monthly_charges_by_churn.png\")\n",
    "plt.show()\n"
   ]
  },
  {
   "cell_type": "code",
   "execution_count": null,
   "id": "e4d12f5d",
   "metadata": {},
   "outputs": [],
   "source": [
    "\n",
    "plt.figure(figsize=(8,5))\n",
    "sns.histplot(data=df, x='tenure', hue='Churn', bins=30, kde=True)\n",
    "plt.title(\"Tenure Distribution by Churn\")\n",
    "plt.savefig(\"tenure_distribution_by_churn.png\")\n",
    "plt.show()\n"
   ]
  },
  {
   "cell_type": "code",
   "execution_count": null,
   "id": "6819951e",
   "metadata": {},
   "outputs": [],
   "source": [
    "\n",
    "df_model = df.drop('customerID', axis=1)\n",
    "for col in df_model.select_dtypes(include='object').columns:\n",
    "    if col != 'Churn':\n",
    "        df_model[col] = LabelEncoder().fit_transform(df_model[col])\n",
    "df_model['Churn'] = df_model['Churn'].map({'No': 0, 'Yes': 1})\n"
   ]
  },
  {
   "cell_type": "code",
   "execution_count": null,
   "id": "0ea052bb",
   "metadata": {},
   "outputs": [],
   "source": [
    "\n",
    "X = df_model.drop('Churn', axis=1)\n",
    "y = df_model['Churn']\n",
    "X_train, X_test, y_train, y_test = train_test_split(X, y, test_size=0.2, random_state=42)\n"
   ]
  },
  {
   "cell_type": "code",
   "execution_count": null,
   "id": "abee7b74",
   "metadata": {},
   "outputs": [],
   "source": [
    "\n",
    "model = LogisticRegression(max_iter=1000)\n",
    "model.fit(X_train, y_train)\n",
    "y_pred = model.predict(X_test)\n",
    "print(\"Confusion Matrix:\\n\", confusion_matrix(y_test, y_pred))\n",
    "print(\"\\nClassification Report:\\n\", classification_report(y_test, y_pred))\n"
   ]
  },
  {
   "cell_type": "code",
   "execution_count": null,
   "id": "be59811c",
   "metadata": {},
   "outputs": [],
   "source": [
    "\n",
    "importance = pd.DataFrame({\n",
    "    'Feature': X.columns,\n",
    "    'Coefficient': model.coef_[0],\n",
    "    'AbsCoefficient': abs(model.coef_[0])\n",
    "}).sort_values(by='AbsCoefficient', ascending=False)\n",
    "\n",
    "plt.figure(figsize=(10,6))\n",
    "sns.barplot(data=importance.head(10), x='Coefficient', y='Feature')\n",
    "plt.title(\"Top 10 Features Influencing Customer Churn\")\n",
    "plt.tight_layout()\n",
    "plt.savefig(\"feature_importance.png\")\n",
    "plt.show()\n"
   ]
  },
  {
   "cell_type": "code",
   "execution_count": null,
   "id": "bdf19146",
   "metadata": {},
   "outputs": [],
   "source": [
    "\n",
    "df_export = df.copy()\n",
    "df_export['Churn'] = df_export['Churn'].map({'No': 0, 'Yes': 1})\n",
    "df_export.to_csv(\"Churn_Cleaned.csv\", index=False)\n"
   ]
  }
 ],
 "metadata": {},
 "nbformat": 4,
 "nbformat_minor": 5
}